{
 "cells": [
  {
   "cell_type": "code",
   "execution_count": 1,
   "metadata": {},
   "outputs": [],
   "source": [
    "import pandas as pd\n",
    "import numpy as np\n",
    "import matplotlib.pyplot as plt\n",
    "from PIL import Image\n"
   ]
  },
  {
   "cell_type": "code",
   "execution_count": 16,
   "metadata": {},
   "outputs": [
    {
     "name": "stdout",
     "output_type": "stream",
     "text": [
      "Original Distribution of 'Pleural Effusion':\n",
      "Pleural Effusion\n",
      "0    10129\n",
      "1     6969\n",
      "Name: count, dtype: int64\n",
      "\n",
      "New Distribution of 'Pleural Effusion' after flipping:\n",
      "Pleural Effusion\n",
      "0    11522\n",
      "1     5576\n",
      "Name: count, dtype: int64\n",
      "\n",
      "Updated dataset saved to 'train_flip.version_0.csv'\n",
      "\n",
      "Flipped indices saved to 'train_flipped_indices_0.csv'\n"
     ]
    }
   ],
   "source": [
    "csv_path = 'prediction/run/chexpert-Pleural Effusion-fp50-npp1-rs0-image_size224/train.version_0.csv'\n",
    "df = pd.read_csv(csv_path)\n",
    "\n",
    "original_distribution = df['Pleural Effusion'].value_counts(dropna=False)\n",
    "print(\"Original Distribution of 'Pleural Effusion':\")\n",
    "print(original_distribution)\n",
    "\n",
    "pleural_effusion_1_indices = df[df['Pleural Effusion'] == 1].index\n",
    "n_to_flip = int(0.2 * len(pleural_effusion_1_indices))\n",
    "\n",
    "indices_to_flip = np.random.choice(pleural_effusion_1_indices, size=n_to_flip, replace=False)\n",
    "df.loc[indices_to_flip, 'Pleural Effusion'] = 0\n",
    "\n",
    "new_distribution = df['Pleural Effusion'].value_counts(dropna=False)\n",
    "print(\"\\nNew Distribution of 'Pleural Effusion' after flipping:\")\n",
    "print(new_distribution)\n",
    "\n",
    "updated_csv_path = 'train_flip.version_0.csv'\n",
    "df.to_csv(updated_csv_path, index=False)\n",
    "print(f\"\\nUpdated dataset saved to '{updated_csv_path}'\")\n",
    "\n",
    "flipped_indices_df = pd.DataFrame({'Flipped_Indices': indices_to_flip})\n",
    "flipped_indices_csv_path = 'train_flipped_indices_0.csv'\n",
    "flipped_indices_df.to_csv(flipped_indices_csv_path, index=False)\n",
    "print(f\"\\nFlipped indices saved to '{flipped_indices_csv_path}'\")\n"
   ]
  },
  {
   "cell_type": "code",
   "execution_count": 13,
   "metadata": {},
   "outputs": [
    {
     "name": "stdout",
     "output_type": "stream",
     "text": [
      "Original Distribution of 'Pleural Effusion':\n",
      "Pleural Effusion\n",
      "0    1688\n",
      "1    1161\n",
      "Name: count, dtype: int64\n",
      "\n",
      "New Distribution of 'Pleural Effusion' after flipping:\n",
      "Pleural Effusion\n",
      "0    1920\n",
      "1     929\n",
      "Name: count, dtype: int64\n",
      "\n",
      "Updated dataset saved to 'val_flip.version_0.csv'\n",
      "\n",
      "Flipped indices saved to 'val_flipped_indices_0.csv'\n"
     ]
    }
   ],
   "source": [
    "csv_path = 'prediction/run/chexpert-Pleural Effusion-fp50-npp1-rs0-image_size224/val.version_0.csv'\n",
    "df = pd.read_csv(csv_path)\n",
    "\n",
    "original_distribution = df['Pleural Effusion'].value_counts(dropna=False)\n",
    "print(\"Original Distribution of 'Pleural Effusion':\")\n",
    "print(original_distribution)\n",
    "\n",
    "pleural_effusion_1_indices = df[df['Pleural Effusion'] == 1].index\n",
    "n_to_flip = int(0.2 * len(pleural_effusion_1_indices))\n",
    "\n",
    "indices_to_flip = np.random.choice(pleural_effusion_1_indices, size=n_to_flip, replace=False)\n",
    "df.loc[indices_to_flip, 'Pleural Effusion'] = 0\n",
    "\n",
    "new_distribution = df['Pleural Effusion'].value_counts(dropna=False)\n",
    "print(\"\\nNew Distribution of 'Pleural Effusion' after flipping:\")\n",
    "print(new_distribution)\n",
    "\n",
    "updated_csv_path = 'val_flip.version_0.csv'\n",
    "df.to_csv(updated_csv_path, index=False)\n",
    "print(f\"\\nUpdated dataset saved to '{updated_csv_path}'\")\n",
    "\n",
    "flipped_indices_df = pd.DataFrame({'Flipped_Indices': indices_to_flip})\n",
    "flipped_indices_csv_path = 'val_flipped_indices_0.csv'\n",
    "flipped_indices_df.to_csv(flipped_indices_csv_path, index=False)\n",
    "print(f\"\\nFlipped indices saved to '{flipped_indices_csv_path}'\")"
   ]
  },
  {
   "cell_type": "markdown",
   "metadata": {},
   "source": [
    "### Testdataset version is just manually copied without any changes and saved with new name"
   ]
  },
  {
   "cell_type": "code",
   "execution_count": null,
   "metadata": {},
   "outputs": [],
   "source": []
  },
  {
   "cell_type": "markdown",
   "metadata": {},
   "source": [
    "# How to fetch a photo?"
   ]
  },
  {
   "cell_type": "code",
   "execution_count": null,
   "metadata": {},
   "outputs": [],
   "source": [
    "index_to_fetch = 10686\n",
    "row = df.loc[index_to_fetch]\n",
    "\n",
    "image_path = row['path_preproc_new'] \n",
    "print(f\"The image path for index {index_to_fetch} is: {image_path}\")\n",
    "\n",
    "\n",
    "# Define the image path\n",
    "image_path = 'preproc_224x224/patient37844_study2_view1_frontal.jpg'\n",
    "\n",
    "# Open the image\n",
    "try:\n",
    "    image = Image.open(image_path)\n",
    "\n",
    "    plt.imshow(image)\n",
    "    plt.axis('off')  \n",
    "    plt.title(f\"Image: {image_path.split('/')[-1]}\")  \n",
    "    plt.show()\n",
    "\n",
    "except FileNotFoundError:\n",
    "    print(f\"File not found: {image_path}\")"
   ]
  }
 ],
 "metadata": {
  "kernelspec": {
   "display_name": "SV",
   "language": "python",
   "name": "python3"
  },
  "language_info": {
   "codemirror_mode": {
    "name": "ipython",
    "version": 3
   },
   "file_extension": ".py",
   "mimetype": "text/x-python",
   "name": "python",
   "nbconvert_exporter": "python",
   "pygments_lexer": "ipython3",
   "version": "3.9.19"
  }
 },
 "nbformat": 4,
 "nbformat_minor": 2
}
