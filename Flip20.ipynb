{
 "cells": [
  {
   "cell_type": "code",
   "execution_count": 1,
   "metadata": {},
   "outputs": [],
   "source": [
    "import pandas as pd\n",
    "import numpy as np"
   ]
  },
  {
   "cell_type": "code",
   "execution_count": 8,
   "metadata": {},
   "outputs": [
    {
     "name": "stdout",
     "output_type": "stream",
     "text": [
      "Original Distribution of 'Pleural Effusion':\n",
      "Pleural Effusion\n",
      "0    10129\n",
      "1     6969\n",
      "Name: count, dtype: int64\n",
      "\n",
      "New Distribution of 'Pleural Effusion' after flipping:\n",
      "Pleural Effusion\n",
      "0    11522\n",
      "1     5576\n",
      "Name: count, dtype: int64\n"
     ]
    }
   ],
   "source": [
    "import pandas as pd\n",
    "import numpy as np\n",
    "\n",
    "csv_path = 'prediction/run/chexpert-Pleural Effusion-fp50-npp1-rs0-image_size224/train.version_0.csv'\n",
    "df = pd.read_csv(csv_path)\n",
    "\n",
    "original_distribution = df['Pleural Effusion'].value_counts(dropna=False)\n",
    "print(\"Original Distribution of 'Pleural Effusion':\")\n",
    "print(original_distribution)\n",
    "\n",
    "pleural_effusion_1_indices = df[df['Pleural Effusion'] == 1].index\n",
    "n_to_flip = int(0.2 * len(pleural_effusion_1_indices))\n",
    "\n",
    "indices_to_flip = np.random.choice(pleural_effusion_1_indices, size=n_to_flip, replace=False)\n",
    "\n",
    "df.loc[indices_to_flip, 'Pleural Effusion'] = 0\n",
    "\n",
    "new_distribution = df['Pleural Effusion'].value_counts(dropna=False)\n",
    "print(\"\\nNew Distribution of 'Pleural Effusion' after flipping:\")\n",
    "print(new_distribution)"
   ]
  },
  {
   "cell_type": "code",
   "execution_count": 10,
   "metadata": {},
   "outputs": [
    {
     "name": "stdout",
     "output_type": "stream",
     "text": [
      "Flipped dataset saved to train_flip.version_0.csv\n"
     ]
    }
   ],
   "source": [
    "# Save the updated dataset to a new CSV file\n",
    "flipped_csv_path = 'train_flip.version_0.csv'  # Specify your desired filename and path\n",
    "df.to_csv(flipped_csv_path, index=False)\n",
    "\n",
    "print(f\"Flipped dataset saved to {flipped_csv_path}\")\n",
    "\n",
    "\n"
   ]
  },
  {
   "cell_type": "code",
   "execution_count": 4,
   "metadata": {},
   "outputs": [
    {
     "name": "stdout",
     "output_type": "stream",
     "text": [
      "Original Distribution of 'Pleural Effusion':\n",
      "Pleural Effusion\n",
      "0    1688\n",
      "1    1161\n",
      "Name: count, dtype: int64\n",
      "\n",
      "New Distribution of 'Pleural Effusion' after flipping:\n",
      "Pleural Effusion\n",
      "0    1920\n",
      "1     929\n",
      "Name: count, dtype: int64\n"
     ]
    }
   ],
   "source": [
    "\n",
    "csv_path = 'prediction/run/chexpert-Pleural Effusion-fp50-npp1-rs0-image_size224/val.version_0.csv'\n",
    "df2 = pd.read_csv(csv_path)\n",
    "\n",
    "original_distribution = df2['Pleural Effusion'].value_counts(dropna=False)\n",
    "print(\"Original Distribution of 'Pleural Effusion':\")\n",
    "print(original_distribution)\n",
    "\n",
    "pleural_effusion_1_indices = df2[df2['Pleural Effusion'] == 1].index\n",
    "n_to_flip = int(0.2 * len(pleural_effusion_1_indices))\n",
    "\n",
    "indices_to_flip = np.random.choice(pleural_effusion_1_indices, size=n_to_flip, replace=False)\n",
    "\n",
    "df2.loc[indices_to_flip, 'Pleural Effusion'] = 0\n",
    "\n",
    "new_distribution = df2['Pleural Effusion'].value_counts(dropna=False)\n",
    "print(\"\\nNew Distribution of 'Pleural Effusion' after flipping:\")\n",
    "print(new_distribution)"
   ]
  },
  {
   "cell_type": "code",
   "execution_count": 5,
   "metadata": {},
   "outputs": [
    {
     "name": "stdout",
     "output_type": "stream",
     "text": [
      "Flipped dataset saved to val_flip.version_0.csv\n"
     ]
    }
   ],
   "source": [
    "flipped_csv_path = 'val_flip.version_0.csv'  # Specify your desired filename and path\n",
    "df2.to_csv(flipped_csv_path, index=False)\n",
    "\n",
    "print(f\"Flipped dataset saved to {flipped_csv_path}\")"
   ]
  },
  {
   "cell_type": "code",
   "execution_count": null,
   "metadata": {},
   "outputs": [],
   "source": []
  }
 ],
 "metadata": {
  "kernelspec": {
   "display_name": "SV",
   "language": "python",
   "name": "python3"
  },
  "language_info": {
   "codemirror_mode": {
    "name": "ipython",
    "version": 3
   },
   "file_extension": ".py",
   "mimetype": "text/x-python",
   "name": "python",
   "nbconvert_exporter": "python",
   "pygments_lexer": "ipython3",
   "version": "3.9.19"
  }
 },
 "nbformat": 4,
 "nbformat_minor": 2
}
