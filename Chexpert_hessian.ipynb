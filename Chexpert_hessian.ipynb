{
 "cells": [
  {
   "cell_type": "code",
   "execution_count": 1,
   "metadata": {},
   "outputs": [
    {
     "name": "stdout",
     "output_type": "stream",
     "text": [
      "Requirement already satisfied: laplace-torch in /Users/fridajorgensen/opt/anaconda3/envs/SV/lib/python3.9/site-packages (0.2.1)\n",
      "Requirement already satisfied: torch>=2.0 in /Users/fridajorgensen/opt/anaconda3/envs/SV/lib/python3.9/site-packages (from laplace-torch) (2.2.2)\n",
      "Requirement already satisfied: torchvision in /Users/fridajorgensen/opt/anaconda3/envs/SV/lib/python3.9/site-packages (from laplace-torch) (0.17.2)\n",
      "Requirement already satisfied: torchaudio in /Users/fridajorgensen/opt/anaconda3/envs/SV/lib/python3.9/site-packages (from laplace-torch) (2.2.2)\n",
      "Requirement already satisfied: backpack-for-pytorch in /Users/fridajorgensen/opt/anaconda3/envs/SV/lib/python3.9/site-packages (from laplace-torch) (1.6.0)\n",
      "Requirement already satisfied: asdfghjkl==0.1a4 in /Users/fridajorgensen/opt/anaconda3/envs/SV/lib/python3.9/site-packages (from laplace-torch) (0.1a4)\n",
      "Requirement already satisfied: torchmetrics in /Users/fridajorgensen/opt/anaconda3/envs/SV/lib/python3.9/site-packages (from laplace-torch) (1.4.2)\n",
      "Requirement already satisfied: opt-einsum in /Users/fridajorgensen/opt/anaconda3/envs/SV/lib/python3.9/site-packages (from laplace-torch) (3.3.0)\n",
      "Requirement already satisfied: curvlinops-for-pytorch>=2.0 in /Users/fridajorgensen/opt/anaconda3/envs/SV/lib/python3.9/site-packages (from laplace-torch) (2.0.0)\n",
      "Requirement already satisfied: numpy in /Users/fridajorgensen/opt/anaconda3/envs/SV/lib/python3.9/site-packages (from asdfghjkl==0.1a4->laplace-torch) (1.26.4)\n",
      "Requirement already satisfied: scipy<2.0.0,>=1.7.1 in /Users/fridajorgensen/opt/anaconda3/envs/SV/lib/python3.9/site-packages (from curvlinops-for-pytorch>=2.0->laplace-torch) (1.13.1)\n",
      "Requirement already satisfied: tqdm<5.0.0,>=4.61.0 in /Users/fridajorgensen/opt/anaconda3/envs/SV/lib/python3.9/site-packages (from curvlinops-for-pytorch>=2.0->laplace-torch) (4.66.5)\n",
      "Requirement already satisfied: einops in /Users/fridajorgensen/opt/anaconda3/envs/SV/lib/python3.9/site-packages (from curvlinops-for-pytorch>=2.0->laplace-torch) (0.8.0)\n",
      "Requirement already satisfied: einconv in /Users/fridajorgensen/opt/anaconda3/envs/SV/lib/python3.9/site-packages (from curvlinops-for-pytorch>=2.0->laplace-torch) (0.1.0)\n",
      "Requirement already satisfied: unfoldNd<1.0.0,>=0.2.0 in /Users/fridajorgensen/opt/anaconda3/envs/SV/lib/python3.9/site-packages (from backpack-for-pytorch->laplace-torch) (0.2.2)\n",
      "Requirement already satisfied: filelock in /Users/fridajorgensen/opt/anaconda3/envs/SV/lib/python3.9/site-packages (from torch>=2.0->laplace-torch) (3.16.1)\n",
      "Requirement already satisfied: typing-extensions>=4.8.0 in /Users/fridajorgensen/opt/anaconda3/envs/SV/lib/python3.9/site-packages (from torch>=2.0->laplace-torch) (4.12.2)\n",
      "Requirement already satisfied: sympy in /Users/fridajorgensen/opt/anaconda3/envs/SV/lib/python3.9/site-packages (from torch>=2.0->laplace-torch) (1.13.3)\n",
      "Requirement already satisfied: networkx in /Users/fridajorgensen/opt/anaconda3/envs/SV/lib/python3.9/site-packages (from torch>=2.0->laplace-torch) (3.2.1)\n",
      "Requirement already satisfied: jinja2 in /Users/fridajorgensen/opt/anaconda3/envs/SV/lib/python3.9/site-packages (from torch>=2.0->laplace-torch) (3.1.4)\n",
      "Requirement already satisfied: fsspec in /Users/fridajorgensen/opt/anaconda3/envs/SV/lib/python3.9/site-packages (from torch>=2.0->laplace-torch) (2024.9.0)\n",
      "Requirement already satisfied: pillow!=8.3.*,>=5.3.0 in /Users/fridajorgensen/opt/anaconda3/envs/SV/lib/python3.9/site-packages (from torchvision->laplace-torch) (10.4.0)\n",
      "Requirement already satisfied: packaging>17.1 in /Users/fridajorgensen/opt/anaconda3/envs/SV/lib/python3.9/site-packages (from torchmetrics->laplace-torch) (24.1)\n",
      "Requirement already satisfied: lightning-utilities>=0.8.0 in /Users/fridajorgensen/opt/anaconda3/envs/SV/lib/python3.9/site-packages (from torchmetrics->laplace-torch) (0.11.7)\n",
      "Requirement already satisfied: setuptools in /Users/fridajorgensen/opt/anaconda3/envs/SV/lib/python3.9/site-packages (from lightning-utilities>=0.8.0->torchmetrics->laplace-torch) (75.1.0)\n",
      "Requirement already satisfied: MarkupSafe>=2.0 in /Users/fridajorgensen/opt/anaconda3/envs/SV/lib/python3.9/site-packages (from jinja2->torch>=2.0->laplace-torch) (2.1.5)\n",
      "Requirement already satisfied: mpmath<1.4,>=1.1.0 in /Users/fridajorgensen/opt/anaconda3/envs/SV/lib/python3.9/site-packages (from sympy->torch>=2.0->laplace-torch) (1.3.0)\n",
      "Note: you may need to restart the kernel to use updated packages.\n"
     ]
    }
   ],
   "source": [
    "pip install laplace-torch"
   ]
  },
  {
   "cell_type": "code",
   "execution_count": 2,
   "metadata": {},
   "outputs": [],
   "source": [
    "from prediction.models import ResNet\n",
    "from prediction.disease_prediction import hp_default_value\n",
    "import os\n",
    "import torch\n",
    "from laplace import Laplace\n",
    "# from analysis.cross_ds_inference import load_model"
   ]
  },
  {
   "cell_type": "code",
   "execution_count": 3,
   "metadata": {},
   "outputs": [],
   "source": [
    "def load_model(ckpt_dir):\n",
    "    model_choose = hp_default_value['model']\n",
    "    num_classes = hp_default_value['num_classes']\n",
    "    lr = hp_default_value['lr']\n",
    "    pretrained = True  # Replace with actual value or source\n",
    "    model_scale = hp_default_value['model_scale']\n",
    "\n",
    "    if model_choose == 'resnet':\n",
    "        model_type = ResNet\n",
    "\n",
    "    file_list = [f for f in os.listdir(ckpt_dir) if f.endswith('.ckpt')]\n",
    "    assert len(file_list) == 1, f\"Expected 1 checkpoint file, but found {len(file_list)}.\"\n",
    "    ckpt_path = os.path.join(ckpt_dir, file_list[0])\n",
    "    \n",
    "    model = model_type.load_from_checkpoint(\n",
    "        ckpt_path,\n",
    "        num_classes=num_classes,\n",
    "        lr=lr,\n",
    "        pretrained=pretrained,\n",
    "        model_scale=model_scale\n",
    "    )\n",
    "\n",
    "    return model\n"
   ]
  },
  {
   "cell_type": "code",
   "execution_count": 63,
   "metadata": {},
   "outputs": [],
   "source": [
    "ckpt_dir = \"prediction/run/chexpert-Pleural Effusion-fp50-npp1-rs0-image_size224/version_0/checkpoints\"\n",
    "assert os.path.exists(ckpt_dir), f\"Checkpoint directory does not exist: {ckpt_dir}\"\n"
   ]
  },
  {
   "cell_type": "code",
   "execution_count": 64,
   "metadata": {},
   "outputs": [
    {
     "name": "stderr",
     "output_type": "stream",
     "text": [
      "Lightning automatically upgraded your loaded checkpoint from v1.9.3 to v2.4.0. To apply the upgrade to your files permanently, run `python -m pytorch_lightning.utilities.upgrade_checkpoint prediction/run/chexpert-Pleural Effusion-fp50-npp1-rs0-image_size224/version_0/checkpoints/epoch=8-step=2412.ckpt`\n"
     ]
    },
    {
     "name": "stdout",
     "output_type": "stream",
     "text": [
      "CheXpert model loaded successfully.\n"
     ]
    }
   ],
   "source": [
    "chexpert_model = load_model(ckpt_dir)\n",
    "print(\"CheXpert model loaded successfully.\")\n"
   ]
  },
  {
   "cell_type": "code",
   "execution_count": 67,
   "metadata": {},
   "outputs": [
    {
     "data": {
      "text/plain": [
       "<bound method Module.eval of ResNet(\n",
       "  (model): ResNet(\n",
       "    (conv1): Conv2d(3, 64, kernel_size=(7, 7), stride=(2, 2), padding=(3, 3), bias=False)\n",
       "    (bn1): BatchNorm2d(64, eps=1e-05, momentum=0.1, affine=True, track_running_stats=True)\n",
       "    (relu): ReLU(inplace=True)\n",
       "    (maxpool): MaxPool2d(kernel_size=3, stride=2, padding=1, dilation=1, ceil_mode=False)\n",
       "    (layer1): Sequential(\n",
       "      (0): Bottleneck(\n",
       "        (conv1): Conv2d(64, 64, kernel_size=(1, 1), stride=(1, 1), bias=False)\n",
       "        (bn1): BatchNorm2d(64, eps=1e-05, momentum=0.1, affine=True, track_running_stats=True)\n",
       "        (conv2): Conv2d(64, 64, kernel_size=(3, 3), stride=(1, 1), padding=(1, 1), bias=False)\n",
       "        (bn2): BatchNorm2d(64, eps=1e-05, momentum=0.1, affine=True, track_running_stats=True)\n",
       "        (conv3): Conv2d(64, 256, kernel_size=(1, 1), stride=(1, 1), bias=False)\n",
       "        (bn3): BatchNorm2d(256, eps=1e-05, momentum=0.1, affine=True, track_running_stats=True)\n",
       "        (relu): ReLU(inplace=True)\n",
       "        (downsample): Sequential(\n",
       "          (0): Conv2d(64, 256, kernel_size=(1, 1), stride=(1, 1), bias=False)\n",
       "          (1): BatchNorm2d(256, eps=1e-05, momentum=0.1, affine=True, track_running_stats=True)\n",
       "        )\n",
       "      )\n",
       "      (1): Bottleneck(\n",
       "        (conv1): Conv2d(256, 64, kernel_size=(1, 1), stride=(1, 1), bias=False)\n",
       "        (bn1): BatchNorm2d(64, eps=1e-05, momentum=0.1, affine=True, track_running_stats=True)\n",
       "        (conv2): Conv2d(64, 64, kernel_size=(3, 3), stride=(1, 1), padding=(1, 1), bias=False)\n",
       "        (bn2): BatchNorm2d(64, eps=1e-05, momentum=0.1, affine=True, track_running_stats=True)\n",
       "        (conv3): Conv2d(64, 256, kernel_size=(1, 1), stride=(1, 1), bias=False)\n",
       "        (bn3): BatchNorm2d(256, eps=1e-05, momentum=0.1, affine=True, track_running_stats=True)\n",
       "        (relu): ReLU(inplace=True)\n",
       "      )\n",
       "      (2): Bottleneck(\n",
       "        (conv1): Conv2d(256, 64, kernel_size=(1, 1), stride=(1, 1), bias=False)\n",
       "        (bn1): BatchNorm2d(64, eps=1e-05, momentum=0.1, affine=True, track_running_stats=True)\n",
       "        (conv2): Conv2d(64, 64, kernel_size=(3, 3), stride=(1, 1), padding=(1, 1), bias=False)\n",
       "        (bn2): BatchNorm2d(64, eps=1e-05, momentum=0.1, affine=True, track_running_stats=True)\n",
       "        (conv3): Conv2d(64, 256, kernel_size=(1, 1), stride=(1, 1), bias=False)\n",
       "        (bn3): BatchNorm2d(256, eps=1e-05, momentum=0.1, affine=True, track_running_stats=True)\n",
       "        (relu): ReLU(inplace=True)\n",
       "      )\n",
       "    )\n",
       "    (layer2): Sequential(\n",
       "      (0): Bottleneck(\n",
       "        (conv1): Conv2d(256, 128, kernel_size=(1, 1), stride=(1, 1), bias=False)\n",
       "        (bn1): BatchNorm2d(128, eps=1e-05, momentum=0.1, affine=True, track_running_stats=True)\n",
       "        (conv2): Conv2d(128, 128, kernel_size=(3, 3), stride=(2, 2), padding=(1, 1), bias=False)\n",
       "        (bn2): BatchNorm2d(128, eps=1e-05, momentum=0.1, affine=True, track_running_stats=True)\n",
       "        (conv3): Conv2d(128, 512, kernel_size=(1, 1), stride=(1, 1), bias=False)\n",
       "        (bn3): BatchNorm2d(512, eps=1e-05, momentum=0.1, affine=True, track_running_stats=True)\n",
       "        (relu): ReLU(inplace=True)\n",
       "        (downsample): Sequential(\n",
       "          (0): Conv2d(256, 512, kernel_size=(1, 1), stride=(2, 2), bias=False)\n",
       "          (1): BatchNorm2d(512, eps=1e-05, momentum=0.1, affine=True, track_running_stats=True)\n",
       "        )\n",
       "      )\n",
       "      (1): Bottleneck(\n",
       "        (conv1): Conv2d(512, 128, kernel_size=(1, 1), stride=(1, 1), bias=False)\n",
       "        (bn1): BatchNorm2d(128, eps=1e-05, momentum=0.1, affine=True, track_running_stats=True)\n",
       "        (conv2): Conv2d(128, 128, kernel_size=(3, 3), stride=(1, 1), padding=(1, 1), bias=False)\n",
       "        (bn2): BatchNorm2d(128, eps=1e-05, momentum=0.1, affine=True, track_running_stats=True)\n",
       "        (conv3): Conv2d(128, 512, kernel_size=(1, 1), stride=(1, 1), bias=False)\n",
       "        (bn3): BatchNorm2d(512, eps=1e-05, momentum=0.1, affine=True, track_running_stats=True)\n",
       "        (relu): ReLU(inplace=True)\n",
       "      )\n",
       "      (2): Bottleneck(\n",
       "        (conv1): Conv2d(512, 128, kernel_size=(1, 1), stride=(1, 1), bias=False)\n",
       "        (bn1): BatchNorm2d(128, eps=1e-05, momentum=0.1, affine=True, track_running_stats=True)\n",
       "        (conv2): Conv2d(128, 128, kernel_size=(3, 3), stride=(1, 1), padding=(1, 1), bias=False)\n",
       "        (bn2): BatchNorm2d(128, eps=1e-05, momentum=0.1, affine=True, track_running_stats=True)\n",
       "        (conv3): Conv2d(128, 512, kernel_size=(1, 1), stride=(1, 1), bias=False)\n",
       "        (bn3): BatchNorm2d(512, eps=1e-05, momentum=0.1, affine=True, track_running_stats=True)\n",
       "        (relu): ReLU(inplace=True)\n",
       "      )\n",
       "      (3): Bottleneck(\n",
       "        (conv1): Conv2d(512, 128, kernel_size=(1, 1), stride=(1, 1), bias=False)\n",
       "        (bn1): BatchNorm2d(128, eps=1e-05, momentum=0.1, affine=True, track_running_stats=True)\n",
       "        (conv2): Conv2d(128, 128, kernel_size=(3, 3), stride=(1, 1), padding=(1, 1), bias=False)\n",
       "        (bn2): BatchNorm2d(128, eps=1e-05, momentum=0.1, affine=True, track_running_stats=True)\n",
       "        (conv3): Conv2d(128, 512, kernel_size=(1, 1), stride=(1, 1), bias=False)\n",
       "        (bn3): BatchNorm2d(512, eps=1e-05, momentum=0.1, affine=True, track_running_stats=True)\n",
       "        (relu): ReLU(inplace=True)\n",
       "      )\n",
       "    )\n",
       "    (layer3): Sequential(\n",
       "      (0): Bottleneck(\n",
       "        (conv1): Conv2d(512, 256, kernel_size=(1, 1), stride=(1, 1), bias=False)\n",
       "        (bn1): BatchNorm2d(256, eps=1e-05, momentum=0.1, affine=True, track_running_stats=True)\n",
       "        (conv2): Conv2d(256, 256, kernel_size=(3, 3), stride=(2, 2), padding=(1, 1), bias=False)\n",
       "        (bn2): BatchNorm2d(256, eps=1e-05, momentum=0.1, affine=True, track_running_stats=True)\n",
       "        (conv3): Conv2d(256, 1024, kernel_size=(1, 1), stride=(1, 1), bias=False)\n",
       "        (bn3): BatchNorm2d(1024, eps=1e-05, momentum=0.1, affine=True, track_running_stats=True)\n",
       "        (relu): ReLU(inplace=True)\n",
       "        (downsample): Sequential(\n",
       "          (0): Conv2d(512, 1024, kernel_size=(1, 1), stride=(2, 2), bias=False)\n",
       "          (1): BatchNorm2d(1024, eps=1e-05, momentum=0.1, affine=True, track_running_stats=True)\n",
       "        )\n",
       "      )\n",
       "      (1): Bottleneck(\n",
       "        (conv1): Conv2d(1024, 256, kernel_size=(1, 1), stride=(1, 1), bias=False)\n",
       "        (bn1): BatchNorm2d(256, eps=1e-05, momentum=0.1, affine=True, track_running_stats=True)\n",
       "        (conv2): Conv2d(256, 256, kernel_size=(3, 3), stride=(1, 1), padding=(1, 1), bias=False)\n",
       "        (bn2): BatchNorm2d(256, eps=1e-05, momentum=0.1, affine=True, track_running_stats=True)\n",
       "        (conv3): Conv2d(256, 1024, kernel_size=(1, 1), stride=(1, 1), bias=False)\n",
       "        (bn3): BatchNorm2d(1024, eps=1e-05, momentum=0.1, affine=True, track_running_stats=True)\n",
       "        (relu): ReLU(inplace=True)\n",
       "      )\n",
       "      (2): Bottleneck(\n",
       "        (conv1): Conv2d(1024, 256, kernel_size=(1, 1), stride=(1, 1), bias=False)\n",
       "        (bn1): BatchNorm2d(256, eps=1e-05, momentum=0.1, affine=True, track_running_stats=True)\n",
       "        (conv2): Conv2d(256, 256, kernel_size=(3, 3), stride=(1, 1), padding=(1, 1), bias=False)\n",
       "        (bn2): BatchNorm2d(256, eps=1e-05, momentum=0.1, affine=True, track_running_stats=True)\n",
       "        (conv3): Conv2d(256, 1024, kernel_size=(1, 1), stride=(1, 1), bias=False)\n",
       "        (bn3): BatchNorm2d(1024, eps=1e-05, momentum=0.1, affine=True, track_running_stats=True)\n",
       "        (relu): ReLU(inplace=True)\n",
       "      )\n",
       "      (3): Bottleneck(\n",
       "        (conv1): Conv2d(1024, 256, kernel_size=(1, 1), stride=(1, 1), bias=False)\n",
       "        (bn1): BatchNorm2d(256, eps=1e-05, momentum=0.1, affine=True, track_running_stats=True)\n",
       "        (conv2): Conv2d(256, 256, kernel_size=(3, 3), stride=(1, 1), padding=(1, 1), bias=False)\n",
       "        (bn2): BatchNorm2d(256, eps=1e-05, momentum=0.1, affine=True, track_running_stats=True)\n",
       "        (conv3): Conv2d(256, 1024, kernel_size=(1, 1), stride=(1, 1), bias=False)\n",
       "        (bn3): BatchNorm2d(1024, eps=1e-05, momentum=0.1, affine=True, track_running_stats=True)\n",
       "        (relu): ReLU(inplace=True)\n",
       "      )\n",
       "      (4): Bottleneck(\n",
       "        (conv1): Conv2d(1024, 256, kernel_size=(1, 1), stride=(1, 1), bias=False)\n",
       "        (bn1): BatchNorm2d(256, eps=1e-05, momentum=0.1, affine=True, track_running_stats=True)\n",
       "        (conv2): Conv2d(256, 256, kernel_size=(3, 3), stride=(1, 1), padding=(1, 1), bias=False)\n",
       "        (bn2): BatchNorm2d(256, eps=1e-05, momentum=0.1, affine=True, track_running_stats=True)\n",
       "        (conv3): Conv2d(256, 1024, kernel_size=(1, 1), stride=(1, 1), bias=False)\n",
       "        (bn3): BatchNorm2d(1024, eps=1e-05, momentum=0.1, affine=True, track_running_stats=True)\n",
       "        (relu): ReLU(inplace=True)\n",
       "      )\n",
       "      (5): Bottleneck(\n",
       "        (conv1): Conv2d(1024, 256, kernel_size=(1, 1), stride=(1, 1), bias=False)\n",
       "        (bn1): BatchNorm2d(256, eps=1e-05, momentum=0.1, affine=True, track_running_stats=True)\n",
       "        (conv2): Conv2d(256, 256, kernel_size=(3, 3), stride=(1, 1), padding=(1, 1), bias=False)\n",
       "        (bn2): BatchNorm2d(256, eps=1e-05, momentum=0.1, affine=True, track_running_stats=True)\n",
       "        (conv3): Conv2d(256, 1024, kernel_size=(1, 1), stride=(1, 1), bias=False)\n",
       "        (bn3): BatchNorm2d(1024, eps=1e-05, momentum=0.1, affine=True, track_running_stats=True)\n",
       "        (relu): ReLU(inplace=True)\n",
       "      )\n",
       "    )\n",
       "    (layer4): Sequential(\n",
       "      (0): Bottleneck(\n",
       "        (conv1): Conv2d(1024, 512, kernel_size=(1, 1), stride=(1, 1), bias=False)\n",
       "        (bn1): BatchNorm2d(512, eps=1e-05, momentum=0.1, affine=True, track_running_stats=True)\n",
       "        (conv2): Conv2d(512, 512, kernel_size=(3, 3), stride=(2, 2), padding=(1, 1), bias=False)\n",
       "        (bn2): BatchNorm2d(512, eps=1e-05, momentum=0.1, affine=True, track_running_stats=True)\n",
       "        (conv3): Conv2d(512, 2048, kernel_size=(1, 1), stride=(1, 1), bias=False)\n",
       "        (bn3): BatchNorm2d(2048, eps=1e-05, momentum=0.1, affine=True, track_running_stats=True)\n",
       "        (relu): ReLU(inplace=True)\n",
       "        (downsample): Sequential(\n",
       "          (0): Conv2d(1024, 2048, kernel_size=(1, 1), stride=(2, 2), bias=False)\n",
       "          (1): BatchNorm2d(2048, eps=1e-05, momentum=0.1, affine=True, track_running_stats=True)\n",
       "        )\n",
       "      )\n",
       "      (1): Bottleneck(\n",
       "        (conv1): Conv2d(2048, 512, kernel_size=(1, 1), stride=(1, 1), bias=False)\n",
       "        (bn1): BatchNorm2d(512, eps=1e-05, momentum=0.1, affine=True, track_running_stats=True)\n",
       "        (conv2): Conv2d(512, 512, kernel_size=(3, 3), stride=(1, 1), padding=(1, 1), bias=False)\n",
       "        (bn2): BatchNorm2d(512, eps=1e-05, momentum=0.1, affine=True, track_running_stats=True)\n",
       "        (conv3): Conv2d(512, 2048, kernel_size=(1, 1), stride=(1, 1), bias=False)\n",
       "        (bn3): BatchNorm2d(2048, eps=1e-05, momentum=0.1, affine=True, track_running_stats=True)\n",
       "        (relu): ReLU(inplace=True)\n",
       "      )\n",
       "      (2): Bottleneck(\n",
       "        (conv1): Conv2d(2048, 512, kernel_size=(1, 1), stride=(1, 1), bias=False)\n",
       "        (bn1): BatchNorm2d(512, eps=1e-05, momentum=0.1, affine=True, track_running_stats=True)\n",
       "        (conv2): Conv2d(512, 512, kernel_size=(3, 3), stride=(1, 1), padding=(1, 1), bias=False)\n",
       "        (bn2): BatchNorm2d(512, eps=1e-05, momentum=0.1, affine=True, track_running_stats=True)\n",
       "        (conv3): Conv2d(512, 2048, kernel_size=(1, 1), stride=(1, 1), bias=False)\n",
       "        (bn3): BatchNorm2d(2048, eps=1e-05, momentum=0.1, affine=True, track_running_stats=True)\n",
       "        (relu): ReLU(inplace=True)\n",
       "      )\n",
       "    )\n",
       "    (avgpool): AdaptiveAvgPool2d(output_size=(1, 1))\n",
       "    (fc): Linear(in_features=2048, out_features=1, bias=True)\n",
       "  )\n",
       "  (loss_func): BCELoss()\n",
       "  (accu_func): BinaryAccuracy()\n",
       "  (auroc_func): BinaryAUROC()\n",
       ")>"
      ]
     },
     "execution_count": 67,
     "metadata": {},
     "output_type": "execute_result"
    }
   ],
   "source": [
    "chexpert_model.eval\n"
   ]
  },
  {
   "cell_type": "code",
   "execution_count": 73,
   "metadata": {},
   "outputs": [],
   "source": [
    "la = Laplace(chexpert_model, likelihood=\"classification\", subset_of_weights=\"all\", hessian_structure=\"diag\")"
   ]
  },
  {
   "cell_type": "code",
   "execution_count": 75,
   "metadata": {},
   "outputs": [],
   "source": [
    "from dataloader.dataloader import CheXpertDataResampleModule"
   ]
  },
  {
   "cell_type": "code",
   "execution_count": 82,
   "metadata": {},
   "outputs": [
    {
     "name": "stderr",
     "output_type": "stream",
     "text": [
      "/Users/fridajorgensen/Documents/GitHub/detecting_causes_of_gender_bias_chest_xrays/dataloader/dataloader.py:831: DtypeWarning: Columns (24) have mixed types. Specify dtype option on import or set low_memory=False.\n",
      "  df = pd.read_csv(self.csv_file_img, header=0)\n"
     ]
    },
    {
     "name": "stdout",
     "output_type": "stream",
     "text": [
      "DEBUG                      Enlarged Cardiomediastinum  Cardiomegaly  Lung Opacity  \\\n",
      "patient_id   sex                                                              \n",
      "patient00001 Female                         0.0           0.0           0.0   \n",
      "patient00002 Female                         0.0           0.0           1.0   \n",
      "patient00003 Male                           0.0           0.0           0.0   \n",
      "patient00004 Female                         0.0           0.0           0.0   \n",
      "patient00005 Male                           0.0           0.0           0.0   \n",
      "...                                         ...           ...           ...   \n",
      "patient64533 Male                           0.0           0.5           0.0   \n",
      "patient64534 Male                           0.0           0.0           1.0   \n",
      "patient64535 Male                           0.0           0.0           1.0   \n",
      "patient64536 Female                         0.0           0.0           0.0   \n",
      "patient64537 Male                           0.0           0.0           0.0   \n",
      "\n",
      "                     Lung Lesion  Edema  Consolidation  Pneumonia  \\\n",
      "patient_id   sex                                                    \n",
      "patient00001 Female          0.0    0.0            0.0        0.0   \n",
      "patient00002 Female          0.0    0.0            0.0        0.0   \n",
      "patient00003 Male            0.0    1.0            0.0        0.0   \n",
      "patient00004 Female          0.0    0.0            0.0        0.0   \n",
      "patient00005 Male            0.0    0.0            0.0        0.0   \n",
      "...                          ...    ...            ...        ...   \n",
      "patient64533 Male            0.0    0.5            0.0        0.0   \n",
      "patient64534 Male            0.0    0.0            0.0        0.0   \n",
      "patient64535 Male            0.0    0.0            0.0        0.0   \n",
      "patient64536 Female          0.0    1.0            0.0        0.0   \n",
      "patient64537 Male            0.0    0.0            0.0        0.0   \n",
      "\n",
      "                     Atelectasis  Pneumothorax  Pleural Effusion  \\\n",
      "patient_id   sex                                                   \n",
      "patient00001 Female          0.0      0.000000               0.0   \n",
      "patient00002 Female          0.0      0.000000               0.0   \n",
      "patient00003 Male            0.0      0.000000               0.0   \n",
      "patient00004 Female          0.0      0.000000               0.0   \n",
      "patient00005 Male            0.0      0.666667               0.0   \n",
      "...                          ...           ...               ...   \n",
      "patient64533 Male            0.0      0.000000               0.5   \n",
      "patient64534 Male            0.0      0.000000               0.0   \n",
      "patient64535 Male            0.0      0.000000               0.0   \n",
      "patient64536 Female          0.5      0.000000               0.5   \n",
      "patient64537 Male            0.0      0.000000               0.5   \n",
      "\n",
      "                     Pleural Other  Fracture  \n",
      "patient_id   sex                              \n",
      "patient00001 Female            0.0       0.0  \n",
      "patient00002 Female            0.0       1.0  \n",
      "patient00003 Male              0.0       0.0  \n",
      "patient00004 Female            0.0       0.0  \n",
      "patient00005 Male              0.0       0.0  \n",
      "...                            ...       ...  \n",
      "patient64533 Male              0.0       0.0  \n",
      "patient64534 Male              0.0       0.0  \n",
      "patient64535 Male              0.0       0.0  \n",
      "patient64536 Female            0.0       0.0  \n",
      "patient64537 Male              0.0       0.0  \n",
      "\n",
      "[64224 rows x 12 columns]\n",
      "Disease prevalence total: {'Enlarged Cardiomediastinum': 0.0525086674068734, 'Cardiomegaly': 0.1014636198680737, 'Lung Opacity': 0.4162118855178052, 'Lung Lesion': 0.04436881969051631, 'Edema': 0.19052027460463677, 'Consolidation': 0.0529526799080991, 'Pneumonia': 0.028638459773013488, 'Atelectasis': 0.14598007939680535, 'Pneumothorax': 0.05978767504622343, 'Pleural Effusion': 0.2837617037405381, 'Pleural Other': 0.014270124916872226, 'Fracture': 0.0491483152672007}\n",
      "Disease prevalence Female: {'Enlarged Cardiomediastinum': 0.04712639084100838, 'Cardiomegaly': 0.09921882794149088, 'Lung Opacity': 0.41958448128536807, 'Lung Lesion': 0.04584485749033825, 'Edema': 0.19800852738070682, 'Consolidation': 0.052294702196158796, 'Pneumonia': 0.028577897667488656, 'Atelectasis': 0.1410760073277181, 'Pneumothorax': 0.05854949510521857, 'Pleural Effusion': 0.2885549950988789, 'Pleural Other': 0.012795797640429495, 'Fracture': 0.04246344321154285}\n",
      "Disease prevalence Male: {'Enlarged Cardiomediastinum': 0.056825867780574524, 'Cardiomegaly': 0.10326643155288151, 'Lung Opacity': 0.4135192789708976, 'Lung Lesion': 0.04318651765367259, 'Edema': 0.18452123568912807, 'Consolidation': 0.05348175870862548, 'Pneumonia': 0.028687824401009806, 'Atelectasis': 0.14991645848425336, 'Pneumothorax': 0.06078217523950025, 'Pleural Effusion': 0.27992620994603046, 'Pleural Other': 0.01545270056105622, 'Fracture': 0.05450989514728847}\n"
     ]
    },
    {
     "name": "stderr",
     "output_type": "stream",
     "text": [
      "/Users/fridajorgensen/Documents/GitHub/detecting_causes_of_gender_bias_chest_xrays/dataloader/dataloader.py:875: DtypeWarning: Columns (24) have mixed types. Specify dtype option on import or set low_memory=False.\n",
      "  df = pd.read_csv(self.csv_file_img, header=0)\n"
     ]
    },
    {
     "name": "stdout",
     "output_type": "stream",
     "text": [
      "PATIENT WISE disease prevalence\n",
      "Disease prevalence total: {'Enlarged Cardiomediastinum': 0.10921150971599403, 'Cardiomegaly': 0.17848467862481315, 'Lung Opacity': 0.56273355754858, 'Lung Lesion': 0.0763421773791729, 'Edema': 0.31133221225710017, 'Consolidation': 0.1292351768809168, 'Pneumonia': 0.06086509715994021, 'Atelectasis': 0.2784317389138017, 'Pneumothorax': 0.10784130543099153, 'Pleural Effusion': 0.4078070503238665, 'Pleural Other': 0.029942077727952168, 'Fracture': 0.07450485799701047}\n",
      "Disease prevalence Female: {'Enlarged Cardiomediastinum': 0.09545136459062281, 'Cardiomegaly': 0.16994401679496152, 'Lung Opacity': 0.5590972708187544, 'Lung Lesion': 0.07655703289013296, 'Edema': 0.313925822253324, 'Consolidation': 0.12393282015395381, 'Pneumonia': 0.05867739678096571, 'Atelectasis': 0.26168649405178446, 'Pneumothorax': 0.10076976906927922, 'Pleural Effusion': 0.40528341497550735, 'Pleural Other': 0.0258222533240028, 'Fracture': 0.06452064380685794}\n",
      "Disease prevalence Male: {'Enlarged Cardiomediastinum': 0.12024801503801588, 'Cardiomegaly': 0.18533793451729652, 'Lung Opacity': 0.5656650674746795, 'Lung Lesion': 0.07617203939062368, 'Edema': 0.3092612855259097, 'Consolidation': 0.13349044693207643, 'Pneumonia': 0.06262099149903207, 'Atelectasis': 0.29186656566506747, 'Pneumothorax': 0.1135145750918834, 'Pleural Effusion': 0.4098420447212636, 'Pleural Other': 0.033246359734029125, 'Fracture': 0.08251269533989844}\n",
      "self.outdir: prediction/run/chexpert-Pleural Effusion-fp50-npp1-rs0-image_size224\n",
      "Files in prediction/run/chexpert-Pleural Effusion-fp50-npp1-rs0-image_size224: ['version_0', 'version_0cd', 'val_flip.version_0.csv', 'temp_version_0', 'test.version_0.csv', 'val.version_0.csv', 'train.version_0.csv', 'train_flip.version_0.csv', 'test_flip.version_0.csv']\n",
      "self.isFlip: False\n",
      "------------------------------\n",
      "No need to sampling, get sampling from prediction/run/chexpert-Pleural Effusion-fp50-npp1-rs0-image_size224\n"
     ]
    },
    {
     "name": "stderr",
     "output_type": "stream",
     "text": [
      "Loading Data: 100%|██████████| 17098/17098 [00:03<00:00, 5349.50it/s]\n",
      "Loading Data: 100%|██████████| 2849/2849 [00:00<00:00, 7999.82it/s]\n",
      "Loading Data: 100%|██████████| 17100/17100 [00:03<00:00, 4832.76it/s]"
     ]
    },
    {
     "name": "stdout",
     "output_type": "stream",
     "text": [
      "#train:  17098\n",
      "#val:    2849\n",
      "#test:   17100\n"
     ]
    },
    {
     "name": "stderr",
     "output_type": "stream",
     "text": [
      "\n"
     ]
    }
   ],
   "source": [
    "# Define parameters for initialization\n",
    "img_data_dir = \"prediction/run/chexpert-Pleural Effusion-fp50-npp1-rs0-image_size224\"\n",
    "csv_file_img = \"datafiles/chexpert.sample.allrace.csv\"\n",
    "image_size = 224\n",
    "pseudo_rgb = True\n",
    "batch_size = 32\n",
    "num_workers = 4\n",
    "augmentation = True\n",
    "outdir = \"prediction/run/chexpert-Pleural Effusion-fp50-npp1-rs0-image_size224\"\n",
    "version_no = \"0\"\n",
    "female_perc_in_training = 50\n",
    "chose_disease = \"Pleural Effusion\"\n",
    "random_state = 42\n",
    "num_classes = 1\n",
    "num_per_patient = 1\n",
    "prevalence_setting = 'separate'\n",
    "isFlip = False\n",
    "\n",
    "# Initialize the data module\n",
    "data_module = CheXpertDataResampleModule(\n",
    "    img_data_dir=img_data_dir,\n",
    "    csv_file_img=csv_file_img,\n",
    "    image_size=image_size,\n",
    "    pseudo_rgb=pseudo_rgb,\n",
    "    batch_size=batch_size,\n",
    "    num_workers=num_workers,\n",
    "    augmentation=augmentation,\n",
    "    outdir=outdir,\n",
    "    version_no=version_no,\n",
    "    female_perc_in_training=female_perc_in_training,\n",
    "    chose_disease=chose_disease,\n",
    "    random_state=random_state,\n",
    "    num_classes=num_classes,\n",
    "    num_per_patient=num_per_patient,\n",
    "    prevalence_setting=prevalence_setting,\n",
    "    isFlip=isFlip\n",
    ")\n",
    "\n",
    "# Get the training dataloader\n",
    "train_loader = data_module.train_dataloader()"
   ]
  },
  {
   "cell_type": "code",
   "execution_count": 83,
   "metadata": {},
   "outputs": [
    {
     "ename": "KeyboardInterrupt",
     "evalue": "",
     "output_type": "error",
     "traceback": [
      "\u001b[0;31m---------------------------------------------------------------------------\u001b[0m",
      "\u001b[0;31mKeyboardInterrupt\u001b[0m                         Traceback (most recent call last)",
      "Cell \u001b[0;32mIn[83], line 1\u001b[0m\n\u001b[0;32m----> 1\u001b[0m \u001b[43mla\u001b[49m\u001b[38;5;241;43m.\u001b[39;49m\u001b[43mfit\u001b[49m\u001b[43m(\u001b[49m\u001b[43mtrain_loader\u001b[49m\u001b[43m)\u001b[49m\n",
      "File \u001b[0;32m~/opt/anaconda3/envs/SV/lib/python3.9/site-packages/laplace/baselaplace.py:813\u001b[0m, in \u001b[0;36mParametricLaplace.fit\u001b[0;34m(self, train_loader, override, progress_bar)\u001b[0m\n\u001b[1;32m    808\u001b[0m \u001b[38;5;28;01mif\u001b[39;00m \u001b[38;5;129;01mnot\u001b[39;00m \u001b[38;5;28mself\u001b[39m\u001b[38;5;241m.\u001b[39menable_backprop:\n\u001b[1;32m    809\u001b[0m     \u001b[38;5;28mself\u001b[39m\u001b[38;5;241m.\u001b[39mmean \u001b[38;5;241m=\u001b[39m \u001b[38;5;28mself\u001b[39m\u001b[38;5;241m.\u001b[39mmean\u001b[38;5;241m.\u001b[39mdetach()\n\u001b[1;32m    811\u001b[0m data: (\n\u001b[1;32m    812\u001b[0m     \u001b[38;5;28mtuple\u001b[39m[torch\u001b[38;5;241m.\u001b[39mTensor, torch\u001b[38;5;241m.\u001b[39mTensor] \u001b[38;5;241m|\u001b[39m MutableMapping[\u001b[38;5;28mstr\u001b[39m, torch\u001b[38;5;241m.\u001b[39mTensor \u001b[38;5;241m|\u001b[39m Any]\n\u001b[0;32m--> 813\u001b[0m ) \u001b[38;5;241m=\u001b[39m \u001b[38;5;28mnext\u001b[39m(\u001b[38;5;28;43miter\u001b[39;49m\u001b[43m(\u001b[49m\u001b[43mtrain_loader\u001b[49m\u001b[43m)\u001b[49m)\n\u001b[1;32m    815\u001b[0m \u001b[38;5;28;01mwith\u001b[39;00m torch\u001b[38;5;241m.\u001b[39mno_grad():\n\u001b[1;32m    816\u001b[0m     \u001b[38;5;28;01mif\u001b[39;00m \u001b[38;5;28misinstance\u001b[39m(data, MutableMapping):  \u001b[38;5;66;03m# To support Huggingface dataset\u001b[39;00m\n",
      "File \u001b[0;32m~/opt/anaconda3/envs/SV/lib/python3.9/site-packages/torch/utils/data/dataloader.py:439\u001b[0m, in \u001b[0;36mDataLoader.__iter__\u001b[0;34m(self)\u001b[0m\n\u001b[1;32m    437\u001b[0m     \u001b[38;5;28;01mreturn\u001b[39;00m \u001b[38;5;28mself\u001b[39m\u001b[38;5;241m.\u001b[39m_iterator\n\u001b[1;32m    438\u001b[0m \u001b[38;5;28;01melse\u001b[39;00m:\n\u001b[0;32m--> 439\u001b[0m     \u001b[38;5;28;01mreturn\u001b[39;00m \u001b[38;5;28;43mself\u001b[39;49m\u001b[38;5;241;43m.\u001b[39;49m\u001b[43m_get_iterator\u001b[49m\u001b[43m(\u001b[49m\u001b[43m)\u001b[49m\n",
      "File \u001b[0;32m~/opt/anaconda3/envs/SV/lib/python3.9/site-packages/torch/utils/data/dataloader.py:387\u001b[0m, in \u001b[0;36mDataLoader._get_iterator\u001b[0;34m(self)\u001b[0m\n\u001b[1;32m    385\u001b[0m \u001b[38;5;28;01melse\u001b[39;00m:\n\u001b[1;32m    386\u001b[0m     \u001b[38;5;28mself\u001b[39m\u001b[38;5;241m.\u001b[39mcheck_worker_number_rationality()\n\u001b[0;32m--> 387\u001b[0m     \u001b[38;5;28;01mreturn\u001b[39;00m \u001b[43m_MultiProcessingDataLoaderIter\u001b[49m\u001b[43m(\u001b[49m\u001b[38;5;28;43mself\u001b[39;49m\u001b[43m)\u001b[49m\n",
      "File \u001b[0;32m~/opt/anaconda3/envs/SV/lib/python3.9/site-packages/torch/utils/data/dataloader.py:1040\u001b[0m, in \u001b[0;36m_MultiProcessingDataLoaderIter.__init__\u001b[0;34m(self, loader)\u001b[0m\n\u001b[1;32m   1033\u001b[0m w\u001b[38;5;241m.\u001b[39mdaemon \u001b[38;5;241m=\u001b[39m \u001b[38;5;28;01mTrue\u001b[39;00m\n\u001b[1;32m   1034\u001b[0m \u001b[38;5;66;03m# NB: Process.start() actually take some time as it needs to\u001b[39;00m\n\u001b[1;32m   1035\u001b[0m \u001b[38;5;66;03m#     start a process and pass the arguments over via a pipe.\u001b[39;00m\n\u001b[1;32m   1036\u001b[0m \u001b[38;5;66;03m#     Therefore, we only add a worker to self._workers list after\u001b[39;00m\n\u001b[1;32m   1037\u001b[0m \u001b[38;5;66;03m#     it started, so that we do not call .join() if program dies\u001b[39;00m\n\u001b[1;32m   1038\u001b[0m \u001b[38;5;66;03m#     before it starts, and __del__ tries to join but will get:\u001b[39;00m\n\u001b[1;32m   1039\u001b[0m \u001b[38;5;66;03m#     AssertionError: can only join a started process.\u001b[39;00m\n\u001b[0;32m-> 1040\u001b[0m \u001b[43mw\u001b[49m\u001b[38;5;241;43m.\u001b[39;49m\u001b[43mstart\u001b[49m\u001b[43m(\u001b[49m\u001b[43m)\u001b[49m\n\u001b[1;32m   1041\u001b[0m \u001b[38;5;28mself\u001b[39m\u001b[38;5;241m.\u001b[39m_index_queues\u001b[38;5;241m.\u001b[39mappend(index_queue)\n\u001b[1;32m   1042\u001b[0m \u001b[38;5;28mself\u001b[39m\u001b[38;5;241m.\u001b[39m_workers\u001b[38;5;241m.\u001b[39mappend(w)\n",
      "File \u001b[0;32m~/opt/anaconda3/envs/SV/lib/python3.9/multiprocessing/process.py:121\u001b[0m, in \u001b[0;36mBaseProcess.start\u001b[0;34m(self)\u001b[0m\n\u001b[1;32m    118\u001b[0m \u001b[38;5;28;01massert\u001b[39;00m \u001b[38;5;129;01mnot\u001b[39;00m _current_process\u001b[38;5;241m.\u001b[39m_config\u001b[38;5;241m.\u001b[39mget(\u001b[38;5;124m'\u001b[39m\u001b[38;5;124mdaemon\u001b[39m\u001b[38;5;124m'\u001b[39m), \\\n\u001b[1;32m    119\u001b[0m        \u001b[38;5;124m'\u001b[39m\u001b[38;5;124mdaemonic processes are not allowed to have children\u001b[39m\u001b[38;5;124m'\u001b[39m\n\u001b[1;32m    120\u001b[0m _cleanup()\n\u001b[0;32m--> 121\u001b[0m \u001b[38;5;28mself\u001b[39m\u001b[38;5;241m.\u001b[39m_popen \u001b[38;5;241m=\u001b[39m \u001b[38;5;28;43mself\u001b[39;49m\u001b[38;5;241;43m.\u001b[39;49m\u001b[43m_Popen\u001b[49m\u001b[43m(\u001b[49m\u001b[38;5;28;43mself\u001b[39;49m\u001b[43m)\u001b[49m\n\u001b[1;32m    122\u001b[0m \u001b[38;5;28mself\u001b[39m\u001b[38;5;241m.\u001b[39m_sentinel \u001b[38;5;241m=\u001b[39m \u001b[38;5;28mself\u001b[39m\u001b[38;5;241m.\u001b[39m_popen\u001b[38;5;241m.\u001b[39msentinel\n\u001b[1;32m    123\u001b[0m \u001b[38;5;66;03m# Avoid a refcycle if the target function holds an indirect\u001b[39;00m\n\u001b[1;32m    124\u001b[0m \u001b[38;5;66;03m# reference to the process object (see bpo-30775)\u001b[39;00m\n",
      "File \u001b[0;32m~/opt/anaconda3/envs/SV/lib/python3.9/multiprocessing/context.py:224\u001b[0m, in \u001b[0;36mProcess._Popen\u001b[0;34m(process_obj)\u001b[0m\n\u001b[1;32m    222\u001b[0m \u001b[38;5;129m@staticmethod\u001b[39m\n\u001b[1;32m    223\u001b[0m \u001b[38;5;28;01mdef\u001b[39;00m \u001b[38;5;21m_Popen\u001b[39m(process_obj):\n\u001b[0;32m--> 224\u001b[0m     \u001b[38;5;28;01mreturn\u001b[39;00m \u001b[43m_default_context\u001b[49m\u001b[38;5;241;43m.\u001b[39;49m\u001b[43mget_context\u001b[49m\u001b[43m(\u001b[49m\u001b[43m)\u001b[49m\u001b[38;5;241;43m.\u001b[39;49m\u001b[43mProcess\u001b[49m\u001b[38;5;241;43m.\u001b[39;49m\u001b[43m_Popen\u001b[49m\u001b[43m(\u001b[49m\u001b[43mprocess_obj\u001b[49m\u001b[43m)\u001b[49m\n",
      "File \u001b[0;32m~/opt/anaconda3/envs/SV/lib/python3.9/multiprocessing/context.py:284\u001b[0m, in \u001b[0;36mSpawnProcess._Popen\u001b[0;34m(process_obj)\u001b[0m\n\u001b[1;32m    281\u001b[0m \u001b[38;5;129m@staticmethod\u001b[39m\n\u001b[1;32m    282\u001b[0m \u001b[38;5;28;01mdef\u001b[39;00m \u001b[38;5;21m_Popen\u001b[39m(process_obj):\n\u001b[1;32m    283\u001b[0m     \u001b[38;5;28;01mfrom\u001b[39;00m \u001b[38;5;21;01m.\u001b[39;00m\u001b[38;5;21;01mpopen_spawn_posix\u001b[39;00m \u001b[38;5;28;01mimport\u001b[39;00m Popen\n\u001b[0;32m--> 284\u001b[0m     \u001b[38;5;28;01mreturn\u001b[39;00m \u001b[43mPopen\u001b[49m\u001b[43m(\u001b[49m\u001b[43mprocess_obj\u001b[49m\u001b[43m)\u001b[49m\n",
      "File \u001b[0;32m~/opt/anaconda3/envs/SV/lib/python3.9/multiprocessing/popen_spawn_posix.py:32\u001b[0m, in \u001b[0;36mPopen.__init__\u001b[0;34m(self, process_obj)\u001b[0m\n\u001b[1;32m     30\u001b[0m \u001b[38;5;28;01mdef\u001b[39;00m \u001b[38;5;21m__init__\u001b[39m(\u001b[38;5;28mself\u001b[39m, process_obj):\n\u001b[1;32m     31\u001b[0m     \u001b[38;5;28mself\u001b[39m\u001b[38;5;241m.\u001b[39m_fds \u001b[38;5;241m=\u001b[39m []\n\u001b[0;32m---> 32\u001b[0m     \u001b[38;5;28;43msuper\u001b[39;49m\u001b[43m(\u001b[49m\u001b[43m)\u001b[49m\u001b[38;5;241;43m.\u001b[39;49m\u001b[38;5;21;43m__init__\u001b[39;49m\u001b[43m(\u001b[49m\u001b[43mprocess_obj\u001b[49m\u001b[43m)\u001b[49m\n",
      "File \u001b[0;32m~/opt/anaconda3/envs/SV/lib/python3.9/multiprocessing/popen_fork.py:19\u001b[0m, in \u001b[0;36mPopen.__init__\u001b[0;34m(self, process_obj)\u001b[0m\n\u001b[1;32m     17\u001b[0m \u001b[38;5;28mself\u001b[39m\u001b[38;5;241m.\u001b[39mreturncode \u001b[38;5;241m=\u001b[39m \u001b[38;5;28;01mNone\u001b[39;00m\n\u001b[1;32m     18\u001b[0m \u001b[38;5;28mself\u001b[39m\u001b[38;5;241m.\u001b[39mfinalizer \u001b[38;5;241m=\u001b[39m \u001b[38;5;28;01mNone\u001b[39;00m\n\u001b[0;32m---> 19\u001b[0m \u001b[38;5;28;43mself\u001b[39;49m\u001b[38;5;241;43m.\u001b[39;49m\u001b[43m_launch\u001b[49m\u001b[43m(\u001b[49m\u001b[43mprocess_obj\u001b[49m\u001b[43m)\u001b[49m\n",
      "File \u001b[0;32m~/opt/anaconda3/envs/SV/lib/python3.9/multiprocessing/popen_spawn_posix.py:62\u001b[0m, in \u001b[0;36mPopen._launch\u001b[0;34m(self, process_obj)\u001b[0m\n\u001b[1;32m     60\u001b[0m     \u001b[38;5;28mself\u001b[39m\u001b[38;5;241m.\u001b[39msentinel \u001b[38;5;241m=\u001b[39m parent_r\n\u001b[1;32m     61\u001b[0m     \u001b[38;5;28;01mwith\u001b[39;00m \u001b[38;5;28mopen\u001b[39m(parent_w, \u001b[38;5;124m'\u001b[39m\u001b[38;5;124mwb\u001b[39m\u001b[38;5;124m'\u001b[39m, closefd\u001b[38;5;241m=\u001b[39m\u001b[38;5;28;01mFalse\u001b[39;00m) \u001b[38;5;28;01mas\u001b[39;00m f:\n\u001b[0;32m---> 62\u001b[0m         \u001b[43mf\u001b[49m\u001b[38;5;241;43m.\u001b[39;49m\u001b[43mwrite\u001b[49m\u001b[43m(\u001b[49m\u001b[43mfp\u001b[49m\u001b[38;5;241;43m.\u001b[39;49m\u001b[43mgetbuffer\u001b[49m\u001b[43m(\u001b[49m\u001b[43m)\u001b[49m\u001b[43m)\u001b[49m\n\u001b[1;32m     63\u001b[0m \u001b[38;5;28;01mfinally\u001b[39;00m:\n\u001b[1;32m     64\u001b[0m     fds_to_close \u001b[38;5;241m=\u001b[39m []\n",
      "\u001b[0;31mKeyboardInterrupt\u001b[0m: "
     ]
    }
   ],
   "source": [
    "la.fit(train_loader)"
   ]
  }
 ],
 "metadata": {
  "kernelspec": {
   "display_name": "SV",
   "language": "python",
   "name": "python3"
  },
  "language_info": {
   "codemirror_mode": {
    "name": "ipython",
    "version": 3
   },
   "file_extension": ".py",
   "mimetype": "text/x-python",
   "name": "python",
   "nbconvert_exporter": "python",
   "pygments_lexer": "ipython3",
   "version": "3.9.19"
  }
 },
 "nbformat": 4,
 "nbformat_minor": 2
}
